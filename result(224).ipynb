{
 "cells": [
  {
   "cell_type": "code",
   "execution_count": 1,
   "metadata": {},
   "outputs": [],
   "source": [
    "import pandas as pd\n",
    "\n",
    "from sklearn.metrics import f1_score, accuracy_score, recall_score, precision_score"
   ]
  },
  {
   "cell_type": "code",
   "execution_count": 2,
   "metadata": {},
   "outputs": [],
   "source": [
    "def evaluate_data(Y_test, Y_pred):\n",
    "\n",
    "    TP = 0\n",
    "    FP = 0\n",
    "    FN = 0\n",
    "    TN = 0\n",
    "\n",
    "    for i in range(len(Y_pred)):\n",
    "        if Y_test[i] == 0 and Y_pred[i] == 0:\n",
    "            TN = TN + 1\n",
    "        elif Y_test[i] == 0 and Y_pred[i] == 1:\n",
    "            FP = FP + 1\n",
    "        elif Y_test[i] == 1 and Y_pred[i] == 0:\n",
    "            FN = FN + 1\n",
    "        elif Y_test[i] == 1 and Y_pred[i] == 1:\n",
    "            TP = TP + 1\n",
    "\n",
    "    Recall = TP / (TP + FN)\n",
    "    Precision = TP / (TP + FP)\n",
    "    Accuracy = (TP + TN) / (TP + FP + FN + TN)\n",
    "    F1_Score = 2 * (Recall * Precision) / (Recall + Precision)\n",
    "    print(\"confusion_matrix\")\n",
    "    print(\"[[{0}], [{1}] \".format(TN, FP))\n",
    "    print(\" [{0}], [{1}]]\".format(FN, TP))\n",
    "    print(\"Accuracy : {0:.3f}      F1_Score : {1:.3f}\".format(Accuracy, F1_Score))\n",
    "    print(\"Recall : {0:.3f}        Precision : {1:.3f}\".format(Recall, Precision))"
   ]
  },
  {
   "cell_type": "code",
   "execution_count": 3,
   "metadata": {},
   "outputs": [],
   "source": [
    "resize_path = \"224X224_result.csv\""
   ]
  },
  {
   "cell_type": "code",
   "execution_count": 4,
   "metadata": {},
   "outputs": [],
   "source": [
    "resize_df = pd.read_csv(resize_path)"
   ]
  },
  {
   "cell_type": "code",
   "execution_count": 5,
   "metadata": {},
   "outputs": [
    {
     "name": "stdout",
     "output_type": "stream",
     "text": [
      "confusion_matrix\n",
      "[[62], [3] \n",
      " [8], [51]]\n",
      "Accuracy : 0.911      F1_Score : 0.903\n",
      "Recall : 0.864        Precision : 0.944\n"
     ]
    }
   ],
   "source": [
    "evaluate_data(list(resize_df[\"y_test\"]), list(resize_df[\"CNN_y_pred\"]))"
   ]
  },
  {
   "cell_type": "code",
   "execution_count": 6,
   "metadata": {},
   "outputs": [
    {
     "data": {
      "text/plain": [
       "29"
      ]
     },
     "execution_count": 6,
     "metadata": {},
     "output_type": "execute_result"
    }
   ],
   "source": [
    "CNN_df = {\"y_test\" : resize_df[\"y_test\"],\n",
    "        \"y_pred\" : resize_df[\"CNN_y_pred\"],\n",
    "        \"y_prediction\" : resize_df[\"CNN_y_prediction\"]}\n",
    "CNN_df = pd.DataFrame(CNN_df)\n",
    "\n",
    "CNN_Hot_df = CNN_df.loc[0.2 < CNN_df[\"y_prediction\"]]\n",
    "CNN_Hot_df = CNN_Hot_df.loc[CNN_df[\"y_prediction\"] < 0.8]\n",
    "\n",
    "CNN_df.drop(CNN_Hot_df.index, axis = 0, inplace = True)\n",
    "len(CNN_Hot_df)"
   ]
  },
  {
   "cell_type": "code",
   "execution_count": 7,
   "metadata": {},
   "outputs": [
    {
     "name": "stdout",
     "output_type": "stream",
     "text": [
      "confusion_matrix\n",
      "[[53], [1] \n",
      " [4], [37]]\n",
      "Accuracy : 0.947      F1_Score : 0.937\n",
      "Recall : 0.902        Precision : 0.974\n"
     ]
    }
   ],
   "source": [
    "evaluate_data(list(CNN_df[\"y_test\"]), list(CNN_df[\"y_pred\"]))"
   ]
  },
  {
   "cell_type": "code",
   "execution_count": 8,
   "metadata": {},
   "outputs": [
    {
     "name": "stdout",
     "output_type": "stream",
     "text": [
      "confusion_matrix\n",
      "[[52], [13] \n",
      " [8], [51]]\n",
      "Accuracy : 0.831      F1_Score : 0.829\n",
      "Recall : 0.864        Precision : 0.797\n"
     ]
    }
   ],
   "source": [
    "evaluate_data(list(resize_df[\"y_test\"]), list(resize_df[\"VGG16_y_pred\"]))"
   ]
  },
  {
   "cell_type": "code",
   "execution_count": 9,
   "metadata": {},
   "outputs": [
    {
     "data": {
      "text/plain": [
       "26"
      ]
     },
     "execution_count": 9,
     "metadata": {},
     "output_type": "execute_result"
    }
   ],
   "source": [
    "VGG16_df = {\"y_test\" : resize_df[\"y_test\"],\n",
    "        \"y_pred\" : resize_df[\"VGG16_y_pred\"],\n",
    "        \"y_prediction\" : resize_df[\"VGG16_y_prediction\"]}\n",
    "VGG16_df = pd.DataFrame(VGG16_df)\n",
    "\n",
    "VGG16_Hot_df = VGG16_df.loc[0.2 < VGG16_df[\"y_prediction\"]]\n",
    "VGG16_Hot_df = VGG16_Hot_df.loc[VGG16_df[\"y_prediction\"] < 0.8]\n",
    "\n",
    "VGG16_df.drop(VGG16_Hot_df.index, axis = 0, inplace = True)\n",
    "len(VGG16_Hot_df)"
   ]
  },
  {
   "cell_type": "code",
   "execution_count": 10,
   "metadata": {},
   "outputs": [
    {
     "name": "stdout",
     "output_type": "stream",
     "text": [
      "confusion_matrix\n",
      "[[45], [5] \n",
      " [3], [45]]\n",
      "Accuracy : 0.918      F1_Score : 0.918\n",
      "Recall : 0.938        Precision : 0.900\n"
     ]
    }
   ],
   "source": [
    "evaluate_data(list(VGG16_df[\"y_test\"]), list(VGG16_df[\"y_pred\"]))"
   ]
  },
  {
   "cell_type": "code",
   "execution_count": 11,
   "metadata": {},
   "outputs": [
    {
     "name": "stdout",
     "output_type": "stream",
     "text": [
      "confusion_matrix\n",
      "[[60], [5] \n",
      " [18], [41]]\n",
      "Accuracy : 0.815      F1_Score : 0.781\n",
      "Recall : 0.695        Precision : 0.891\n"
     ]
    }
   ],
   "source": [
    "evaluate_data(list(resize_df[\"y_test\"]), list(resize_df[\"ResNet50_y_pred\"]))"
   ]
  },
  {
   "cell_type": "code",
   "execution_count": 12,
   "metadata": {},
   "outputs": [
    {
     "data": {
      "text/plain": [
       "15"
      ]
     },
     "execution_count": 12,
     "metadata": {},
     "output_type": "execute_result"
    }
   ],
   "source": [
    "ResNet50_df = {\"y_test\" : resize_df[\"y_test\"],\n",
    "        \"y_pred\" : resize_df[\"ResNet50_y_pred\"],\n",
    "        \"y_prediction\" : resize_df[\"ResNet50_y_prediction\"]}\n",
    "ResNet50_df = pd.DataFrame(ResNet50_df)\n",
    "\n",
    "ResNet50_Hot_df = ResNet50_df.loc[0.2 < ResNet50_df[\"y_prediction\"]]\n",
    "ResNet50_Hot_df = ResNet50_Hot_df.loc[ResNet50_df[\"y_prediction\"] < 0.8]\n",
    "\n",
    "ResNet50_df.drop(ResNet50_Hot_df.index, axis = 0, inplace = True)\n",
    "len(ResNet50_Hot_df)"
   ]
  },
  {
   "cell_type": "code",
   "execution_count": 13,
   "metadata": {},
   "outputs": [
    {
     "name": "stdout",
     "output_type": "stream",
     "text": [
      "confusion_matrix\n",
      "[[56], [1] \n",
      " [13], [39]]\n",
      "Accuracy : 0.872      F1_Score : 0.848\n",
      "Recall : 0.750        Precision : 0.975\n"
     ]
    }
   ],
   "source": [
    "evaluate_data(list(ResNet50_df[\"y_test\"]), list(ResNet50_df[\"y_pred\"]))"
   ]
  },
  {
   "cell_type": "code",
   "execution_count": 14,
   "metadata": {},
   "outputs": [
    {
     "name": "stdout",
     "output_type": "stream",
     "text": [
      "confusion_matrix\n",
      "[[61], [4] \n",
      " [28], [31]]\n",
      "Accuracy : 0.742      F1_Score : 0.660\n",
      "Recall : 0.525        Precision : 0.886\n"
     ]
    }
   ],
   "source": [
    "evaluate_data(list(resize_df[\"y_test\"]), list(resize_df[\"EfficientNetB0_y_pred\"]))"
   ]
  },
  {
   "cell_type": "code",
   "execution_count": 15,
   "metadata": {},
   "outputs": [
    {
     "data": {
      "text/plain": [
       "57"
      ]
     },
     "execution_count": 15,
     "metadata": {},
     "output_type": "execute_result"
    }
   ],
   "source": [
    "EfficientNetB0_df = {\"y_test\" : resize_df[\"y_test\"],\n",
    "        \"y_pred\" : resize_df[\"EfficientNetB0_y_pred\"],\n",
    "        \"y_prediction\" : resize_df[\"EfficientNetB0_y_prediction\"]}\n",
    "EfficientNetB0_df = pd.DataFrame(EfficientNetB0_df)\n",
    "\n",
    "EfficientNetB0_Hot_df = EfficientNetB0_df.loc[0.2 < EfficientNetB0_df[\"y_prediction\"]]\n",
    "EfficientNetB0_Hot_df = EfficientNetB0_Hot_df.loc[EfficientNetB0_df[\"y_prediction\"] < 0.8]\n",
    "\n",
    "EfficientNetB0_df.drop(EfficientNetB0_Hot_df.index, axis = 0, inplace = True)\n",
    "len(EfficientNetB0_Hot_df)"
   ]
  },
  {
   "cell_type": "code",
   "execution_count": 16,
   "metadata": {},
   "outputs": [
    {
     "name": "stdout",
     "output_type": "stream",
     "text": [
      "confusion_matrix\n",
      "[[40], [0] \n",
      " [7], [20]]\n",
      "Accuracy : 0.896      F1_Score : 0.851\n",
      "Recall : 0.741        Precision : 1.000\n"
     ]
    }
   ],
   "source": [
    "evaluate_data(list(EfficientNetB0_df[\"y_test\"]), list(EfficientNetB0_df[\"y_pred\"]))"
   ]
  }
 ],
 "metadata": {
  "kernelspec": {
   "display_name": "Python 3.8.10 64-bit",
   "language": "python",
   "name": "python3"
  },
  "language_info": {
   "codemirror_mode": {
    "name": "ipython",
    "version": 3
   },
   "file_extension": ".py",
   "mimetype": "text/x-python",
   "name": "python",
   "nbconvert_exporter": "python",
   "pygments_lexer": "ipython3",
   "version": "3.8.10"
  },
  "orig_nbformat": 4,
  "vscode": {
   "interpreter": {
    "hash": "916dbcbb3f70747c44a77c7bcd40155683ae19c65e1c03b4aa3499c5328201f1"
   }
  }
 },
 "nbformat": 4,
 "nbformat_minor": 2
}
