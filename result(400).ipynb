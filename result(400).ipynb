{
 "cells": [
  {
   "cell_type": "code",
   "execution_count": 1,
   "metadata": {},
   "outputs": [],
   "source": [
    "import pandas as pd\n",
    "\n",
    "from sklearn.metrics import f1_score, accuracy_score, recall_score, precision_score"
   ]
  },
  {
   "cell_type": "code",
   "execution_count": 2,
   "metadata": {},
   "outputs": [],
   "source": [
    "def evaluate_data(Y_test, Y_pred):\n",
    "\n",
    "    TP = 0\n",
    "    FP = 0\n",
    "    FN = 0\n",
    "    TN = 0\n",
    "\n",
    "    for i in range(len(Y_pred)):\n",
    "        if Y_test[i] == 0 and Y_pred[i] == 0:\n",
    "            TN = TN + 1\n",
    "        elif Y_test[i] == 0 and Y_pred[i] == 1:\n",
    "            FP = FP + 1\n",
    "        elif Y_test[i] == 1 and Y_pred[i] == 0:\n",
    "            FN = FN + 1\n",
    "        elif Y_test[i] == 1 and Y_pred[i] == 1:\n",
    "            TP = TP + 1\n",
    "\n",
    "    Recall = TP / (TP + FN)\n",
    "    Precision = TP / (TP + FP)\n",
    "    Accuracy = (TP + TN) / (TP + FP + FN + TN)\n",
    "    F1_Score = 2 * (Recall * Precision) / (Recall + Precision)\n",
    "    print(\"confusion_matrix\")\n",
    "    print(\"[[{0}], [{1}] \".format(TN, FP))\n",
    "    print(\" [{0}], [{1}]]\".format(FN, TP))\n",
    "    print(\"Accuracy : {0:.3f}      F1_Score : {1:.3f}\".format(Accuracy, F1_Score))\n",
    "    print(\"Recall : {0:.3f}        Precision : {1:.3f}\".format(Recall, Precision))"
   ]
  },
  {
   "cell_type": "code",
   "execution_count": 3,
   "metadata": {},
   "outputs": [],
   "source": [
    "original_path = \"400X401_result.csv\""
   ]
  },
  {
   "cell_type": "code",
   "execution_count": 4,
   "metadata": {},
   "outputs": [],
   "source": [
    "original_df = pd.read_csv(original_path)"
   ]
  },
  {
   "cell_type": "code",
   "execution_count": 5,
   "metadata": {},
   "outputs": [
    {
     "name": "stdout",
     "output_type": "stream",
     "text": [
      "confusion_matrix\n",
      "[[58], [7] \n",
      " [10], [49]]\n",
      "Accuracy : 0.863      F1_Score : 0.852\n",
      "Recall : 0.831        Precision : 0.875\n"
     ]
    }
   ],
   "source": [
    "evaluate_data(list(original_df[\"y_test\"]), list(original_df[\"CNN_y_pred\"]))"
   ]
  },
  {
   "cell_type": "code",
   "execution_count": 6,
   "metadata": {},
   "outputs": [
    {
     "data": {
      "text/plain": [
       "35"
      ]
     },
     "execution_count": 6,
     "metadata": {},
     "output_type": "execute_result"
    }
   ],
   "source": [
    "CNN_df = {\"y_test\" : original_df[\"y_test\"],\n",
    "        \"y_pred\" : original_df[\"CNN_y_pred\"],\n",
    "        \"y_prediction\" : original_df[\"CNN_y_prediction\"]}\n",
    "CNN_df = pd.DataFrame(CNN_df)\n",
    "\n",
    "CNN_Hot_df = CNN_df.loc[0.2 < CNN_df[\"y_prediction\"]]\n",
    "CNN_Hot_df = CNN_Hot_df.loc[CNN_df[\"y_prediction\"] < 0.8]\n",
    "\n",
    "CNN_df.drop(CNN_Hot_df.index, axis = 0, inplace = True)\n",
    "len(CNN_Hot_df)"
   ]
  },
  {
   "cell_type": "code",
   "execution_count": 7,
   "metadata": {},
   "outputs": [
    {
     "name": "stdout",
     "output_type": "stream",
     "text": [
      "confusion_matrix\n",
      "[[47], [1] \n",
      " [2], [39]]\n",
      "Accuracy : 0.966      F1_Score : 0.963\n",
      "Recall : 0.951        Precision : 0.975\n"
     ]
    }
   ],
   "source": [
    "evaluate_data(list(CNN_df[\"y_test\"]), list(CNN_df[\"y_pred\"]))"
   ]
  },
  {
   "cell_type": "code",
   "execution_count": 8,
   "metadata": {},
   "outputs": [
    {
     "name": "stdout",
     "output_type": "stream",
     "text": [
      "confusion_matrix\n",
      "[[58], [7] \n",
      " [6], [53]]\n",
      "Accuracy : 0.895      F1_Score : 0.891\n",
      "Recall : 0.898        Precision : 0.883\n"
     ]
    }
   ],
   "source": [
    "evaluate_data(list(original_df[\"y_test\"]), list(original_df[\"VGG16_y_pred\"]))"
   ]
  },
  {
   "cell_type": "code",
   "execution_count": 9,
   "metadata": {},
   "outputs": [
    {
     "data": {
      "text/plain": [
       "17"
      ]
     },
     "execution_count": 9,
     "metadata": {},
     "output_type": "execute_result"
    }
   ],
   "source": [
    "VGG16_df = {\"y_test\" : original_df[\"y_test\"],\n",
    "        \"y_pred\" : original_df[\"VGG16_y_pred\"],\n",
    "        \"y_prediction\" : original_df[\"VGG16_y_prediction\"]}\n",
    "VGG16_df = pd.DataFrame(VGG16_df)\n",
    "\n",
    "VGG16_Hot_df = VGG16_df.loc[0.2 < VGG16_df[\"y_prediction\"]]\n",
    "VGG16_Hot_df = VGG16_Hot_df.loc[VGG16_df[\"y_prediction\"] < 0.8]\n",
    "\n",
    "VGG16_df.drop(VGG16_Hot_df.index, axis = 0, inplace = True)\n",
    "len(VGG16_Hot_df)"
   ]
  },
  {
   "cell_type": "code",
   "execution_count": 10,
   "metadata": {},
   "outputs": [
    {
     "name": "stdout",
     "output_type": "stream",
     "text": [
      "confusion_matrix\n",
      "[[51], [3] \n",
      " [3], [50]]\n",
      "Accuracy : 0.944      F1_Score : 0.943\n",
      "Recall : 0.943        Precision : 0.943\n"
     ]
    }
   ],
   "source": [
    "evaluate_data(list(VGG16_df[\"y_test\"]), list(VGG16_df[\"y_pred\"]))"
   ]
  },
  {
   "cell_type": "code",
   "execution_count": 11,
   "metadata": {},
   "outputs": [
    {
     "name": "stdout",
     "output_type": "stream",
     "text": [
      "confusion_matrix\n",
      "[[54], [11] \n",
      " [7], [52]]\n",
      "Accuracy : 0.855      F1_Score : 0.852\n",
      "Recall : 0.881        Precision : 0.825\n"
     ]
    }
   ],
   "source": [
    "evaluate_data(list(original_df[\"y_test\"]), list(original_df[\"ResNet50_y_pred\"]))"
   ]
  },
  {
   "cell_type": "code",
   "execution_count": 12,
   "metadata": {},
   "outputs": [
    {
     "data": {
      "text/plain": [
       "24"
      ]
     },
     "execution_count": 12,
     "metadata": {},
     "output_type": "execute_result"
    }
   ],
   "source": [
    "ResNet50_df = {\"y_test\" : original_df[\"y_test\"],\n",
    "        \"y_pred\" : original_df[\"ResNet50_y_pred\"],\n",
    "        \"y_prediction\" : original_df[\"ResNet50_y_prediction\"]}\n",
    "ResNet50_df = pd.DataFrame(ResNet50_df)\n",
    "\n",
    "ResNet50_Hot_df = ResNet50_df.loc[0.2 < ResNet50_df[\"y_prediction\"]]\n",
    "ResNet50_Hot_df = ResNet50_Hot_df.loc[ResNet50_df[\"y_prediction\"] < 0.8]\n",
    "\n",
    "ResNet50_df.drop(ResNet50_Hot_df.index, axis = 0, inplace = True)\n",
    "len(ResNet50_Hot_df)"
   ]
  },
  {
   "cell_type": "code",
   "execution_count": 13,
   "metadata": {},
   "outputs": [
    {
     "name": "stdout",
     "output_type": "stream",
     "text": [
      "confusion_matrix\n",
      "[[47], [5] \n",
      " [2], [46]]\n",
      "Accuracy : 0.930      F1_Score : 0.929\n",
      "Recall : 0.958        Precision : 0.902\n"
     ]
    }
   ],
   "source": [
    "evaluate_data(list(ResNet50_df[\"y_test\"]), list(ResNet50_df[\"y_pred\"]))"
   ]
  },
  {
   "cell_type": "code",
   "execution_count": 14,
   "metadata": {},
   "outputs": [
    {
     "name": "stdout",
     "output_type": "stream",
     "text": [
      "confusion_matrix\n",
      "[[46], [19] \n",
      " [17], [42]]\n",
      "Accuracy : 0.710      F1_Score : 0.700\n",
      "Recall : 0.712        Precision : 0.689\n"
     ]
    }
   ],
   "source": [
    "evaluate_data(list(original_df[\"y_test\"]), list(original_df[\"EfficientNetB0_y_pred\"]))"
   ]
  },
  {
   "cell_type": "code",
   "execution_count": 15,
   "metadata": {},
   "outputs": [
    {
     "data": {
      "text/plain": [
       "41"
      ]
     },
     "execution_count": 15,
     "metadata": {},
     "output_type": "execute_result"
    }
   ],
   "source": [
    "EfficientNetB0_df = {\"y_test\" : original_df[\"y_test\"],\n",
    "        \"y_pred\" : original_df[\"EfficientNetB0_y_pred\"],\n",
    "        \"y_prediction\" : original_df[\"EfficientNetB0_y_prediction\"]}\n",
    "EfficientNetB0_df = pd.DataFrame(EfficientNetB0_df)\n",
    "\n",
    "EfficientNetB0_Hot_df = EfficientNetB0_df.loc[0.2 < EfficientNetB0_df[\"y_prediction\"]]\n",
    "EfficientNetB0_Hot_df = EfficientNetB0_Hot_df.loc[EfficientNetB0_df[\"y_prediction\"] < 0.8]\n",
    "\n",
    "EfficientNetB0_df.drop(EfficientNetB0_Hot_df.index, axis = 0, inplace = True)\n",
    "len(EfficientNetB0_Hot_df)"
   ]
  },
  {
   "cell_type": "code",
   "execution_count": 16,
   "metadata": {},
   "outputs": [
    {
     "name": "stdout",
     "output_type": "stream",
     "text": [
      "confusion_matrix\n",
      "[[32], [13] \n",
      " [11], [27]]\n",
      "Accuracy : 0.711      F1_Score : 0.692\n",
      "Recall : 0.711        Precision : 0.675\n"
     ]
    }
   ],
   "source": [
    "evaluate_data(list(EfficientNetB0_df[\"y_test\"]), list(EfficientNetB0_df[\"y_pred\"]))"
   ]
  }
 ],
 "metadata": {
  "kernelspec": {
   "display_name": "Python 3.8.10 64-bit",
   "language": "python",
   "name": "python3"
  },
  "language_info": {
   "codemirror_mode": {
    "name": "ipython",
    "version": 3
   },
   "file_extension": ".py",
   "mimetype": "text/x-python",
   "name": "python",
   "nbconvert_exporter": "python",
   "pygments_lexer": "ipython3",
   "version": "3.8.10"
  },
  "orig_nbformat": 4,
  "vscode": {
   "interpreter": {
    "hash": "916dbcbb3f70747c44a77c7bcd40155683ae19c65e1c03b4aa3499c5328201f1"
   }
  }
 },
 "nbformat": 4,
 "nbformat_minor": 2
}
